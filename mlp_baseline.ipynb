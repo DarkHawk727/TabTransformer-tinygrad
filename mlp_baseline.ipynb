{
 "cells": [
  {
   "cell_type": "markdown",
   "metadata": {},
   "source": [
    "# Multi-Layer Perceptron\n",
    "\n",
    "The baseline test described in the paper is that using an MLP. On the dataset, it achieved a 69.7% measured in AUC."
   ]
  },
  {
   "cell_type": "code",
   "execution_count": 67,
   "metadata": {},
   "outputs": [],
   "source": [
    "import math\n",
    "from typing import Callable, List\n",
    "\n",
    "import numpy as np\n",
    "\n",
    "import matplotlib.pyplot as plt\n",
    "\n",
    "from sklearn.metrics import roc_auc_score\n",
    "\n",
    "from tinygrad import Tensor, nn\n",
    "from tinygrad.engine.lazy import LazyBuffer\n",
    "from tinygrad.tensor import Function\n"
   ]
  },
  {
   "cell_type": "markdown",
   "metadata": {},
   "source": [
    "## Creating the Dataset\n",
    "\n",
    "The methodology in the paper prescribes a 65/15/20 train/val/test set with 5 cross validation splits. The data is found in `ticdata2000.txt` and the pair of `ticeval2000.txt` and `tictgts2000.txt` (tic=The Insurance Company, eval=Evaluation/Test, tgts=Targets).\n"
   ]
  },
  {
   "cell_type": "code",
   "execution_count": 49,
   "metadata": {},
   "outputs": [],
   "source": [
    "def load_data(file_path: str, delimiter: str = \"\\t\", has_target: bool = True):\n",
    "    data = np.loadtxt(file_path, delimiter=delimiter)\n",
    "    if has_target:\n",
    "        X, y = data[:, :-1], data[:, -1]\n",
    "        return X, y\n",
    "    return data\n",
    "\n",
    "\n",
    "def normalize_nonbinary_columns(X: np.ndarray) -> np.ndarray:\n",
    "    for i in range(X.shape[1]):\n",
    "        unique_vals = np.unique(X[:, i])\n",
    "        if not np.array_equal(unique_vals, [0, 1]):\n",
    "            X[:, i] = (X[:, i] - np.mean(X[:, i])) / np.std(X[:, i])\n",
    "    return X\n"
   ]
  },
  {
   "cell_type": "code",
   "execution_count": 50,
   "metadata": {},
   "outputs": [],
   "source": [
    "with open(\"dataset/names.txt\", \"r\") as file:\n",
    "    feature_names = [line.strip() for line in file.readlines()]\n",
    "\n",
    "X_train, y_train = load_data(\"dataset/ticdata2000.txt\")\n",
    "X_train = normalize_nonbinary_columns(X_train)\n",
    "\n",
    "X_test = load_data(\"dataset/ticeval2000.txt\", has_target=False)\n",
    "X_test = normalize_nonbinary_columns(X_test)\n",
    "y_test = np.loadtxt(\"dataset/tictgts2000.txt\", delimiter=\"\\t\")\n",
    "\n",
    "X_combined = np.vstack((X_train, X_test))\n",
    "y_combined = np.concatenate((y_train, y_test))\n",
    "\n",
    "num_samples = X_combined.shape[0]\n",
    "indices = np.random.permutation(num_samples)\n",
    "X_shuffled = X_combined[indices]\n",
    "y_shuffled = y_combined[indices]\n",
    "\n",
    "train_end = int(0.65 * num_samples)\n",
    "val_end = int((0.65 + 0.15) * num_samples)\n",
    "\n",
    "X_train_new = X_shuffled[:train_end]\n",
    "y_train_new = y_shuffled[:train_end]\n",
    "X_val_new = X_shuffled[train_end:val_end]\n",
    "y_val_new = y_shuffled[train_end:val_end]\n",
    "X_test_new = X_shuffled[val_end:]\n",
    "y_test_new = y_shuffled[val_end:]\n"
   ]
  },
  {
   "cell_type": "markdown",
   "metadata": {},
   "source": [
    "## Defining the Model\n",
    "\n",
    "- 2 hidden layers:\n",
    "  - $l$ is the input size\n",
    "  - 1<sup>st</sup> hidden layer had $m_1l$ units where $1\\le m_1\\le 8$.\n",
    "  - 2<sup>nd</sup> hidden layer had $m_2l$ units where $1\\le m_2\\le 3$.\n",
    "- SELU Activation Function.\n",
    "- Batch Normalization after each layer"
   ]
  },
  {
   "cell_type": "code",
   "execution_count": 51,
   "metadata": {},
   "outputs": [],
   "source": [
    "# https://github.com/pytorch/pytorch/blob/96aaa311c0251d24decb9dc5da4957b7c590af6f/torch/nn/modules/activation.py#L507\n",
    "class Selu(Function):\n",
    "    _alpha: float = 1.6732632423543772848170429916717\n",
    "    _lambda: float = 1.0507009873554804934193349852946\n",
    "\n",
    "    def forward(self, x: LazyBuffer) -> LazyBuffer:\n",
    "        alpha_buf = x.const_like(self._alpha)\n",
    "        lambda_buf = x.const_like(self._lambda)\n",
    "        self.ret = lambda_buf * LazyBuffer.where(\n",
    "            x >= 0, x, alpha_buf * ((x * (1 / math.log(2))).exp2() - 1)\n",
    "        )\n",
    "        return self.ret\n",
    "\n",
    "    def backward(self, grad_output: LazyBuffer) -> LazyBuffer:\n",
    "        alpha_buf = self.ret.const_like(self._alpha)\n",
    "        lambda_buf = self.ret.const_like(self._lambda)\n",
    "        dx = LazyBuffer.where(\n",
    "            self.ret >= 0,\n",
    "            lambda_buf,\n",
    "            lambda_buf * alpha_buf * (self.ret * (1 / math.log(2))).exp2(),\n",
    "        )\n",
    "        return dx * grad_output\n"
   ]
  },
  {
   "cell_type": "code",
   "execution_count": 55,
   "metadata": {},
   "outputs": [],
   "source": [
    "class MLP:\n",
    "    def __init__(self, l: int, m1: int = 4, m2: int = 2) -> None:\n",
    "        self.layers: List[Callable[[Tensor], Tensor]] = [\n",
    "            nn.Linear(l, m1 * l),\n",
    "            nn.BatchNorm(m1 * l),\n",
    "            Selu.apply,\n",
    "            nn.Linear(m1 * l, m2 * l),\n",
    "            nn.BatchNorm(m2 * l),\n",
    "            Selu.apply,\n",
    "            nn.Linear(m2 * l, 1),\n",
    "            Tensor.sigmoid,\n",
    "        ]\n",
    "\n",
    "    def __call__(self, x: Tensor) -> Tensor:\n",
    "        return x.sequential(self.layers)\n"
   ]
  },
  {
   "cell_type": "markdown",
   "metadata": {},
   "source": [
    "## Training the Model\n",
    "\n",
    "- Evaluation metric was Area under the Curve (AUC).\n",
    "- Cross Entropy Loss.\n",
    "- AdamW optimizer.\n",
    "- Constant Learning Rate (What value?).\n",
    "- Trained with early stopping based on the performance of validation set.\n",
    "  - Stopping patience (# of epochs) was 15."
   ]
  },
  {
   "cell_type": "code",
   "execution_count": 59,
   "metadata": {},
   "outputs": [
    {
     "name": "stdout",
     "output_type": "stream",
     "text": [
      "Early stopping triggered.\n",
      "Training complete!\n",
      "\n"
     ]
    }
   ],
   "source": [
    "model = MLP(l=X_train_new.shape[1])\n",
    "optim = nn.optim.AdamW(nn.state.get_parameters(model))  # Try adjusting the learning rate\n",
    "\n",
    "def early_stop(losses: List[float], patience: int) -> bool:\n",
    "    if len(losses) < patience:\n",
    "        return False\n",
    "    best_loss = min(losses)\n",
    "    return all(loss >= best_loss for loss in losses[-patience:])\n",
    "\n",
    "@Tensor.train()\n",
    "def train_step() -> Tensor:\n",
    "    optim.zero_grad()\n",
    "    \n",
    "    samples = np.random.randint(0, X_train_new.shape[0], 128)\n",
    "    X_batch = Tensor(X_train_new[samples], dtype=\"float32\")\n",
    "    y_batch = Tensor(y_train_new[samples], dtype=\"float32\")\n",
    "\n",
    "    loss = model(X_batch).cross_entropy(y_batch).backward()\n",
    "    optim.step()\n",
    "\n",
    "    return loss\n",
    "\n",
    "@Tensor.test()\n",
    "def get_cv_auc() -> float:\n",
    "    y_pred = model(Tensor(X_val_new, dtype=\"float32\"))\n",
    "    auc = roc_auc_score(y_val_new, y_pred.numpy())\n",
    "    return auc\n",
    "\n",
    "val_losses: List[float] = []\n",
    "n_epochs: int = 0\n",
    "while n_epochs < 1000:\n",
    "    loss = train_step()\n",
    "    cv_auc = get_cv_auc()\n",
    "    val_losses.append(cv_auc)\n",
    "    \n",
    "    if early_stop(val_losses, patience=15):\n",
    "        print(\"Early stopping triggered.\")\n",
    "        break\n",
    "    \n",
    "    n_epochs += 1\n",
    "\n",
    "print(\"Training complete!\")\n",
    "print()"
   ]
  },
  {
   "cell_type": "code",
   "execution_count": 66,
   "metadata": {},
   "outputs": [
    {
     "data": {
      "image/png": "[encoded data removed]",
      "text/plain": [
       "<Figure size 640x480 with 1 Axes>"
      ]
     },
     "metadata": {},
     "output_type": "display_data"
    }
   ],
   "source": [
    "plt.plot(val_losses)\n",
    "plt.xlabel(\"Epoch\")\n",
    "plt.ylabel(\"Validation Loss\")\n",
    "plt.title(\"Validation Loss over Epochs\")\n",
    "\n",
    "final_epoch = len(val_losses) - 1\n",
    "final_loss = val_losses[-1]\n",
    "plt.annotate(\n",
    "    f\"Final Loss: {final_loss:.2f}\", \n",
    "    xy=(final_epoch, final_loss), \n",
    "    xytext=(final_epoch, final_loss - 0.001),\n",
    "    arrowprops=dict(arrowstyle=\"->\", color=\"black\")\n",
    ")\n",
    "\n",
    "plt.show()\n"
   ]
  },
  {
   "cell_type": "code",
   "execution_count": 69,
   "metadata": {},
   "outputs": [
    {
     "ename": "AssertionError",
     "evalue": "type(y)=<class 'numpy.ndarray'>, y=array([1., 1., 0., ..., 0., 0., 0.])",
     "output_type": "error",
     "traceback": [
      "\u001b[1;31m---------------------------------------------------------------------------\u001b[0m",
      "\u001b[1;31mAssertionError\u001b[0m                            Traceback (most recent call last)",
      "Cell \u001b[1;32mIn[69], line 2\u001b[0m\n\u001b[0;32m      1\u001b[0m Tensor\u001b[38;5;241m.\u001b[39mtraining \u001b[38;5;241m=\u001b[39m \u001b[38;5;28;01mFalse\u001b[39;00m\n\u001b[1;32m----> 2\u001b[0m acc \u001b[38;5;241m=\u001b[39m (\u001b[43mmodel\u001b[49m\u001b[43m(\u001b[49m\u001b[43mTensor\u001b[49m\u001b[43m(\u001b[49m\u001b[43mX_test_new\u001b[49m\u001b[43m)\u001b[49m\u001b[43m)\u001b[49m\u001b[38;5;241;43m.\u001b[39;49m\u001b[43margmax\u001b[49m\u001b[43m(\u001b[49m\u001b[43maxis\u001b[49m\u001b[38;5;241;43m=\u001b[39;49m\u001b[38;5;241;43m1\u001b[39;49m\u001b[43m)\u001b[49m\u001b[43m \u001b[49m\u001b[38;5;241;43m==\u001b[39;49m\u001b[43m \u001b[49m\u001b[43my_test_new\u001b[49m)\u001b[38;5;241m.\u001b[39mmean()\u001b[38;5;241m.\u001b[39mitem()\n\u001b[0;32m      3\u001b[0m \u001b[38;5;28mprint\u001b[39m(\u001b[38;5;124mf\u001b[39m\u001b[38;5;124m\"\u001b[39m\u001b[38;5;124mloss \u001b[39m\u001b[38;5;132;01m{\u001b[39;00mloss\u001b[38;5;241m.\u001b[39mitem()\u001b[38;5;132;01m:\u001b[39;00m\u001b[38;5;124m.2f\u001b[39m\u001b[38;5;132;01m}\u001b[39;00m\u001b[38;5;124m, acc \u001b[39m\u001b[38;5;132;01m{\u001b[39;00macc\u001b[38;5;241m*\u001b[39m\u001b[38;5;241m100.\u001b[39m\u001b[38;5;132;01m:\u001b[39;00m\u001b[38;5;124m.2f\u001b[39m\u001b[38;5;132;01m}\u001b[39;00m\u001b[38;5;124m%\u001b[39m\u001b[38;5;124m\"\u001b[39m)\n",
      "File \u001b[1;32mc:\\Users\\Arjun Sarao\\TabTransformer-tinygrad\\venv\\lib\\site-packages\\tinygrad\\tensor.py:3520\u001b[0m, in \u001b[0;36m_metadata_wrapper.<locals>._wrapper\u001b[1;34m(*args, **kwargs)\u001b[0m\n\u001b[0;32m   3519\u001b[0m \u001b[38;5;28;01mdef\u001b[39;00m \u001b[38;5;21m_wrapper\u001b[39m(\u001b[38;5;241m*\u001b[39margs, \u001b[38;5;241m*\u001b[39m\u001b[38;5;241m*\u001b[39mkwargs):\n\u001b[1;32m-> 3520\u001b[0m   \u001b[38;5;28;01mif\u001b[39;00m _METADATA\u001b[38;5;241m.\u001b[39mget() \u001b[38;5;129;01mis\u001b[39;00m \u001b[38;5;129;01mnot\u001b[39;00m \u001b[38;5;28;01mNone\u001b[39;00m: \u001b[38;5;28;01mreturn\u001b[39;00m fn(\u001b[38;5;241m*\u001b[39margs, \u001b[38;5;241m*\u001b[39m\u001b[38;5;241m*\u001b[39mkwargs)\n\u001b[0;32m   3522\u001b[0m   \u001b[38;5;28;01mif\u001b[39;00m TRACEMETA \u001b[38;5;241m>\u001b[39m\u001b[38;5;241m=\u001b[39m \u001b[38;5;241m2\u001b[39m:\n\u001b[0;32m   3523\u001b[0m     caller_frame \u001b[38;5;241m=\u001b[39m sys\u001b[38;5;241m.\u001b[39m_getframe(frame \u001b[38;5;241m:=\u001b[39m \u001b[38;5;241m1\u001b[39m)\n",
      "File \u001b[1;32mc:\\Users\\Arjun Sarao\\TabTransformer-tinygrad\\venv\\lib\\site-packages\\tinygrad\\tensor.py:3049\u001b[0m, in \u001b[0;36mTensor.__eq__\u001b[1;34m(self, x)\u001b[0m\n\u001b[1;32m-> 3049\u001b[0m \u001b[38;5;28;01mdef\u001b[39;00m \u001b[38;5;21m__eq__\u001b[39m(\u001b[38;5;28mself\u001b[39m, x) \u001b[38;5;241m-\u001b[39m\u001b[38;5;241m>\u001b[39m Tensor: \u001b[38;5;28;01mreturn\u001b[39;00m \u001b[38;5;28;43mself\u001b[39;49m\u001b[38;5;241;43m.\u001b[39;49m\u001b[43meq\u001b[49m\u001b[43m(\u001b[49m\u001b[43mx\u001b[49m\u001b[43m)\u001b[49m\n",
      "File \u001b[1;32mc:\\Users\\Arjun Sarao\\TabTransformer-tinygrad\\venv\\lib\\site-packages\\tinygrad\\tensor.py:3520\u001b[0m, in \u001b[0;36m_metadata_wrapper.<locals>._wrapper\u001b[1;34m(*args, **kwargs)\u001b[0m\n\u001b[0;32m   3519\u001b[0m \u001b[38;5;28;01mdef\u001b[39;00m \u001b[38;5;21m_wrapper\u001b[39m(\u001b[38;5;241m*\u001b[39margs, \u001b[38;5;241m*\u001b[39m\u001b[38;5;241m*\u001b[39mkwargs):\n\u001b[1;32m-> 3520\u001b[0m   \u001b[38;5;28;01mif\u001b[39;00m _METADATA\u001b[38;5;241m.\u001b[39mget() \u001b[38;5;129;01mis\u001b[39;00m \u001b[38;5;129;01mnot\u001b[39;00m \u001b[38;5;28;01mNone\u001b[39;00m: \u001b[38;5;28;01mreturn\u001b[39;00m fn(\u001b[38;5;241m*\u001b[39margs, \u001b[38;5;241m*\u001b[39m\u001b[38;5;241m*\u001b[39mkwargs)\n\u001b[0;32m   3522\u001b[0m   \u001b[38;5;28;01mif\u001b[39;00m TRACEMETA \u001b[38;5;241m>\u001b[39m\u001b[38;5;241m=\u001b[39m \u001b[38;5;241m2\u001b[39m:\n\u001b[0;32m   3523\u001b[0m     caller_frame \u001b[38;5;241m=\u001b[39m sys\u001b[38;5;241m.\u001b[39m_getframe(frame \u001b[38;5;241m:=\u001b[39m \u001b[38;5;241m1\u001b[39m)\n",
      "File \u001b[1;32mc:\\Users\\Arjun Sarao\\TabTransformer-tinygrad\\venv\\lib\\site-packages\\tinygrad\\ops.py:86\u001b[0m, in \u001b[0;36mSimpleMathTrait.eq\u001b[1;34m(self, x)\u001b[0m\n\u001b[1;32m---> 86\u001b[0m \u001b[38;5;28;01mdef\u001b[39;00m \u001b[38;5;21meq\u001b[39m(\u001b[38;5;28mself\u001b[39m, x): \u001b[38;5;28;01mreturn\u001b[39;00m \u001b[38;5;28;43mself\u001b[39;49m\u001b[38;5;241;43m.\u001b[39;49m\u001b[43mne\u001b[49m\u001b[43m(\u001b[49m\u001b[43mx\u001b[49m\u001b[43m)\u001b[49m\u001b[38;5;241m.\u001b[39mlogical_not()\n",
      "File \u001b[1;32mc:\\Users\\Arjun Sarao\\TabTransformer-tinygrad\\venv\\lib\\site-packages\\tinygrad\\tensor.py:3520\u001b[0m, in \u001b[0;36m_metadata_wrapper.<locals>._wrapper\u001b[1;34m(*args, **kwargs)\u001b[0m\n\u001b[0;32m   3519\u001b[0m \u001b[38;5;28;01mdef\u001b[39;00m \u001b[38;5;21m_wrapper\u001b[39m(\u001b[38;5;241m*\u001b[39margs, \u001b[38;5;241m*\u001b[39m\u001b[38;5;241m*\u001b[39mkwargs):\n\u001b[1;32m-> 3520\u001b[0m   \u001b[38;5;28;01mif\u001b[39;00m _METADATA\u001b[38;5;241m.\u001b[39mget() \u001b[38;5;129;01mis\u001b[39;00m \u001b[38;5;129;01mnot\u001b[39;00m \u001b[38;5;28;01mNone\u001b[39;00m: \u001b[38;5;28;01mreturn\u001b[39;00m fn(\u001b[38;5;241m*\u001b[39margs, \u001b[38;5;241m*\u001b[39m\u001b[38;5;241m*\u001b[39mkwargs)\n\u001b[0;32m   3522\u001b[0m   \u001b[38;5;28;01mif\u001b[39;00m TRACEMETA \u001b[38;5;241m>\u001b[39m\u001b[38;5;241m=\u001b[39m \u001b[38;5;241m2\u001b[39m:\n\u001b[0;32m   3523\u001b[0m     caller_frame \u001b[38;5;241m=\u001b[39m sys\u001b[38;5;241m.\u001b[39m_getframe(frame \u001b[38;5;241m:=\u001b[39m \u001b[38;5;241m1\u001b[39m)\n",
      "File \u001b[1;32mc:\\Users\\Arjun Sarao\\TabTransformer-tinygrad\\venv\\lib\\site-packages\\tinygrad\\tensor.py:3047\u001b[0m, in \u001b[0;36mTensor.ne\u001b[1;34m(self, x)\u001b[0m\n\u001b[1;32m-> 3047\u001b[0m \u001b[38;5;28;01mdef\u001b[39;00m \u001b[38;5;21mne\u001b[39m(\u001b[38;5;28mself\u001b[39m, x) \u001b[38;5;241m-\u001b[39m\u001b[38;5;241m>\u001b[39m Tensor: \u001b[38;5;28;01mreturn\u001b[39;00m F\u001b[38;5;241m.\u001b[39mNeq\u001b[38;5;241m.\u001b[39mapply(\u001b[38;5;241m*\u001b[39m\u001b[38;5;28;43mself\u001b[39;49m\u001b[38;5;241;43m.\u001b[39;49m\u001b[43m_broadcasted\u001b[49m\u001b[43m(\u001b[49m\u001b[43mx\u001b[49m\u001b[43m)\u001b[49m)\n",
      "File \u001b[1;32mc:\\Users\\Arjun Sarao\\TabTransformer-tinygrad\\venv\\lib\\site-packages\\tinygrad\\tensor.py:3520\u001b[0m, in \u001b[0;36m_metadata_wrapper.<locals>._wrapper\u001b[1;34m(*args, **kwargs)\u001b[0m\n\u001b[0;32m   3519\u001b[0m \u001b[38;5;28;01mdef\u001b[39;00m \u001b[38;5;21m_wrapper\u001b[39m(\u001b[38;5;241m*\u001b[39margs, \u001b[38;5;241m*\u001b[39m\u001b[38;5;241m*\u001b[39mkwargs):\n\u001b[1;32m-> 3520\u001b[0m   \u001b[38;5;28;01mif\u001b[39;00m _METADATA\u001b[38;5;241m.\u001b[39mget() \u001b[38;5;129;01mis\u001b[39;00m \u001b[38;5;129;01mnot\u001b[39;00m \u001b[38;5;28;01mNone\u001b[39;00m: \u001b[38;5;28;01mreturn\u001b[39;00m fn(\u001b[38;5;241m*\u001b[39margs, \u001b[38;5;241m*\u001b[39m\u001b[38;5;241m*\u001b[39mkwargs)\n\u001b[0;32m   3522\u001b[0m   \u001b[38;5;28;01mif\u001b[39;00m TRACEMETA \u001b[38;5;241m>\u001b[39m\u001b[38;5;241m=\u001b[39m \u001b[38;5;241m2\u001b[39m:\n\u001b[0;32m   3523\u001b[0m     caller_frame \u001b[38;5;241m=\u001b[39m sys\u001b[38;5;241m.\u001b[39m_getframe(frame \u001b[38;5;241m:=\u001b[39m \u001b[38;5;241m1\u001b[39m)\n",
      "File \u001b[1;32mc:\\Users\\Arjun Sarao\\TabTransformer-tinygrad\\venv\\lib\\site-packages\\tinygrad\\tensor.py:2746\u001b[0m, in \u001b[0;36mTensor._broadcasted\u001b[1;34m(self, y, reverse, match_dtype)\u001b[0m\n\u001b[0;32m   2743\u001b[0m x: Tensor \u001b[38;5;241m=\u001b[39m \u001b[38;5;28mself\u001b[39m\n\u001b[0;32m   2744\u001b[0m \u001b[38;5;28;01mif\u001b[39;00m \u001b[38;5;129;01mnot\u001b[39;00m \u001b[38;5;28misinstance\u001b[39m(y, Tensor):\n\u001b[0;32m   2745\u001b[0m   \u001b[38;5;66;03m# make y a Tensor\u001b[39;00m\n\u001b[1;32m-> 2746\u001b[0m   \u001b[38;5;28;01massert\u001b[39;00m \u001b[38;5;28misinstance\u001b[39m(y, (\u001b[38;5;241m*\u001b[39mget_args(ConstType), UOp)), \u001b[38;5;124mf\u001b[39m\u001b[38;5;124m\"\u001b[39m\u001b[38;5;132;01m{\u001b[39;00m\u001b[38;5;28mtype\u001b[39m(y)\u001b[38;5;132;01m=}\u001b[39;00m\u001b[38;5;124m, \u001b[39m\u001b[38;5;132;01m{\u001b[39;00my\u001b[38;5;132;01m=}\u001b[39;00m\u001b[38;5;124m\"\u001b[39m\n\u001b[0;32m   2747\u001b[0m   \u001b[38;5;28;01mif\u001b[39;00m \u001b[38;5;28misinstance\u001b[39m(x\u001b[38;5;241m.\u001b[39mdtype, ImageDType) \u001b[38;5;129;01mor\u001b[39;00m dtypes\u001b[38;5;241m.\u001b[39mis_float(x\u001b[38;5;241m.\u001b[39mdtype) \u001b[38;5;129;01mor\u001b[39;00m (dtypes\u001b[38;5;241m.\u001b[39mis_int(x\u001b[38;5;241m.\u001b[39mdtype) \u001b[38;5;129;01mand\u001b[39;00m \u001b[38;5;28misinstance\u001b[39m(y, \u001b[38;5;28mint\u001b[39m)): y_dtype \u001b[38;5;241m=\u001b[39m x\u001b[38;5;241m.\u001b[39mdtype\n\u001b[0;32m   2748\u001b[0m   \u001b[38;5;28;01melif\u001b[39;00m \u001b[38;5;129;01mnot\u001b[39;00m \u001b[38;5;28misinstance\u001b[39m(y, UOp): y_dtype \u001b[38;5;241m=\u001b[39m dtypes\u001b[38;5;241m.\u001b[39mfrom_py(y)\n",
      "\u001b[1;31mAssertionError\u001b[0m: type(y)=<class 'numpy.ndarray'>, y=array([1., 1., 0., ..., 0., 0., 0.])"
     ]
    }
   ],
   "source": [
    "Tensor.training = False\n",
    "acc = (model(Tensor(X_test_new)).argmax(axis=1) == y_test_new).mean().item()\n",
    "print(f\"loss {loss.item():.2f}, acc {acc*100.:.2f}%\")"
   ]
  }
 ],
 "metadata": {
  "kernelspec": {
   "display_name": "venv",
   "language": "python",
   "name": "python3"
  },
  "language_info": {
   "codemirror_mode": {
    "name": "ipython",
    "version": 3
   },
   "file_extension": ".py",
   "mimetype": "text/x-python",
   "name": "python",
   "nbconvert_exporter": "python",
   "pygments_lexer": "ipython3",
   "version": "3.10.4"
  }
 },
 "nbformat": 4,
 "nbformat_minor": 2
}
